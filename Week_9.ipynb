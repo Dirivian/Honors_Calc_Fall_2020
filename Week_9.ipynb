{
 "cells": [
  {
   "cell_type": "markdown",
   "metadata": {},
   "source": [
    "## Calculus of variations on a computer\n",
    "\n",
    "\n",
    "We can find the function $y$ that minimizes the integral\n",
    "\n",
    "$$ \\int f(x, y, y') dx $$\n",
    "         \n",
    "We find this by discretizing the integral and miniziming a multivariate sum and find the optimal $y$ vector.\n",
    "         \n",
    "The gradient for the optimization is found using the Euler-Lagange formula\n",
    "\n",
    "$$ f_y -  \\frac{d}{dx} f_{y'}$$\n",
    "\n"
   ]
  },
  {
   "cell_type": "code",
   "execution_count": 2,
   "metadata": {},
   "outputs": [],
   "source": [
    "import numpy as np\n",
    "import matplotlib.pyplot as plt\n",
    "from scipy.spatial.distance import pdist,cdist\n",
    "from scipy.optimize import fmin_tnc as tnc"
   ]
  },
  {
   "cell_type": "markdown",
   "metadata": {},
   "source": [
    "### The path of shortest length between two points\n",
    "\n",
    "The integral to be minimized is the arc length\n",
    "\n",
    "$$ \\int \\sqrt{1 +{y'}^2} dx$$\n",
    "\n"
   ]
  },
  {
   "cell_type": "code",
   "execution_count": 20,
   "metadata": {},
   "outputs": [],
   "source": [
    "N = 100\n",
    "x = np.linspace(0, 10, N)\n",
    "y = np.linspace(0, 10, N-2)\n",
    "delta_x = x[1]-x[0]\n",
    "\n",
    "BC_0 = 12\n",
    "BC_1 = 0\n",
    "\n",
    "def f(x, y, y_prime):\n",
    "    return np.sqrt(1+y_prime**2)\n",
    "\n",
    "def g_1(x, y, y_prime):\n",
    "    return 0\n",
    "\n",
    "def g_2(x, y, y_prime):\n",
    "    return y_prime/np.sqrt(1+y_prime**2)\n",
    "    \n",
    "def integrand(y):\n",
    "    y = np.r_[BC_0, y, BC_1]\n",
    "    sum_value = 0\n",
    "    for i in range(1, len(y)):\n",
    "        k = f(x[i], y[i], (y[i]-y[i-1])/delta_x)*delta_x\n",
    "        sum_value += k\n",
    "    return sum_value\n",
    "\n",
    "def gradient(y):\n",
    "    y = np.r_[BC_0, y, BC_1]\n",
    "    grad = []\n",
    "    for i in range(1,len(y)-1):\n",
    "        value = g_1(x[i], y[i], (y[i]-y[i-1])/delta_x)*delta_x+ g_2(x[i], y[i], (y[i]-y[i-1])/delta_x)- g_2(x[i], y[i], (y[i+1]-y[i])/delta_x)\n",
    "        grad += [value]\n",
    "    return grad"
   ]
  },
  {
   "cell_type": "markdown",
   "metadata": {},
   "source": [
    "Scipy's truncated newton is used as the optimization algorithm"
   ]
  },
  {
   "cell_type": "code",
   "execution_count": 21,
   "metadata": {},
   "outputs": [
    {
     "data": {
      "text/plain": [
       "[<matplotlib.lines.Line2D at 0x21d70e4fe50>]"
      ]
     },
     "execution_count": 21,
     "metadata": {},
     "output_type": "execute_result"
    },
    {
     "data": {
      "image/png": "[encoded data removed]",
      "text/plain": [
       "<Figure size 432x288 with 1 Axes>"
      ]
     },
     "metadata": {
      "needs_background": "light"
     },
     "output_type": "display_data"
    }
   ],
   "source": [
    "ans = tnc(integrand,y, fprime = gradient)\n",
    "plt.plot(x, np.r_[BC_0, ans[0], BC_1])"
   ]
  },
  {
   "cell_type": "markdown",
   "metadata": {},
   "source": [
    "The shortest path between two points (on a plane) is a straight line."
   ]
  },
  {
   "cell_type": "markdown",
   "metadata": {},
   "source": [
    "### The path of quickest descent - the brachistrochrone\n",
    "\n",
    "The integral to be minimized is the arc length\n",
    "\n",
    "$$ \\int \\sqrt{1 +{y'}^2} dx$$\n",
    "                  \n",
    "        "
   ]
  },
  {
   "cell_type": "code",
   "execution_count": 93,
   "metadata": {},
   "outputs": [],
   "source": [
    "N = 100\n",
    "x = np.linspace(0, 10, N)\n",
    "y = 10*np.linspace(1, 2, N-2)\n",
    "delta_x = x[1]-x[0]\n",
    "\n",
    "BC_0 = 10\n",
    "BC_1 = 7\n",
    "\n",
    "def f(x, y, y_prime):\n",
    "    if (1+y_prime**2)/y<0:\n",
    "        print(y)\n",
    "    return np.sqrt((1+y_prime**2)/y)\n",
    "\n",
    "def g_1(x, y, y_prime):\n",
    "    return -0.5*np.sqrt((1+y_prime**2)/y)/y\n",
    "\n",
    "def g_2(x, y, y_prime):\n",
    "    return y_prime/np.sqrt(y*(1+y_prime**2))\n",
    "    \n",
    "def integrand(y):\n",
    "    y = np.r_[BC_0, y, BC_1]\n",
    "    sum_value = 0\n",
    "    for i in range(1, len(y)):\n",
    "        k = f(x[i], y[i], (y[i]-y[i-1])/delta_x)*delta_x\n",
    "        sum_value += k\n",
    "    return sum_value\n",
    "\n",
    "def gradient(y):\n",
    "    y = np.r_[BC_0, y, BC_1]\n",
    "    grad = []\n",
    "    for i in range(1,len(y)-1):\n",
    "        value = g_1(x[i], y[i], (y[i]-y[i-1])/delta_x)*delta_x+ g_2(x[i], y[i], (y[i]-y[i-1])/delta_x)- g_2(x[i], y[i], (y[i+1]-y[i])/delta_x)\n",
    "        grad += [value]\n",
    "    return grad"
   ]
  },
  {
   "cell_type": "code",
   "execution_count": 94,
   "metadata": {},
   "outputs": [
    {
     "data": {
      "text/plain": [
       "[<matplotlib.lines.Line2D at 0x21d7224b790>]"
      ]
     },
     "execution_count": 94,
     "metadata": {},
     "output_type": "execute_result"
    },
    {
     "data": {
      "image/png": "[encoded data removed]",
      "text/plain": [
       "<Figure size 432x288 with 1 Axes>"
      ]
     },
     "metadata": {
      "needs_background": "light"
     },
     "output_type": "display_data"
    }
   ],
   "source": [
    "bounds_list = [(0.001, 1000) for i in range(len(y))]\n",
    "ans = tnc(integrand,y, fprime = gradient, bounds = bounds_list)\n",
    "plt.plot(x, np.r_[BC_0, ans[0], BC_1])\n",
    "#plt.hist(g2"
   ]
  },
  {
   "cell_type": "markdown",
   "metadata": {},
   "source": [
    "This is a cycloid!!!"
   ]
  },
  {
   "cell_type": "markdown",
   "metadata": {},
   "source": [
    "### Queen Dido's proble,m\n",
    "\n",
    "Minimizing the integral\n",
    "\n",
    "$$ \\int ydx + \\lambda \\sqrt{1+ {y'}^2 }dx$$\n",
    "\n",
    "which is finding the maximal area subject to a constant arc length"
   ]
  },
  {
   "cell_type": "code",
   "execution_count": 69,
   "metadata": {},
   "outputs": [],
   "source": [
    "N = 100\n",
    "x = np.linspace(0, 10, N)\n",
    "y = np.linspace(0.12, 1, N-2)\n",
    "delta_x = x[1]-x[0]\n",
    "\n",
    "BC_0 = 1\n",
    "BC_1 = 1\n",
    "\n",
    "lambda_value = 10\n",
    "\n",
    "def f(x, y, y_prime):\n",
    "    return y + lambda_value*np.sqrt(1+y_prime**2)\n",
    "\n",
    "def g_1(x, y, y_prime):\n",
    "    return 1\n",
    "\n",
    "def g_2(x, y, y_prime):\n",
    "    return lambda_value*y_prime/np.sqrt(1+y_prime**2)\n",
    "    \n",
    "def integrand(y):\n",
    "    y = np.r_[BC_0, y, BC_1]\n",
    "    sum_value = 0\n",
    "    for i in range(1, len(y)):\n",
    "        k = f(x[i], y[i], (y[i]-y[i-1])/delta_x)*delta_x\n",
    "        sum_value += k\n",
    "    return sum_value\n",
    "\n",
    "def gradient(y):\n",
    "    y = np.r_[BC_0, y, BC_1]\n",
    "    grad = []\n",
    "    for i in range(1,len(y)-1):\n",
    "        value = g_1(x[i], y[i], (y[i]-y[i-1])/delta_x)*delta_x+ g_2(x[i], y[i], (y[i]-y[i-1])/delta_x)- g_2(x[i], y[i], (y[i+1]-y[i])/delta_x)\n",
    "        grad += [value]\n",
    "    return grad"
   ]
  },
  {
   "cell_type": "code",
   "execution_count": 70,
   "metadata": {},
   "outputs": [
    {
     "data": {
      "text/plain": [
       "[<matplotlib.lines.Line2D at 0x21d723de430>]"
      ]
     },
     "execution_count": 70,
     "metadata": {},
     "output_type": "execute_result"
    },
    {
     "data": {
      "image/png": "[encoded data removed]",
      "text/plain": [
       "<Figure size 432x288 with 1 Axes>"
      ]
     },
     "metadata": {
      "needs_background": "light"
     },
     "output_type": "display_data"
    }
   ],
   "source": [
    "ans = tnc(integrand,y, fprime = gradient)\n",
    "plt.plot(x, np.r_[BC_0, ans[0], BC_1])"
   ]
  },
  {
   "cell_type": "markdown",
   "metadata": {},
   "source": [
    "The curve of maximum area with a fixed arc length is a circle."
   ]
  }
 ],
 "metadata": {
  "kernelspec": {
   "display_name": "Python 3",
   "language": "python",
   "name": "python3"
  },
  "language_info": {
   "codemirror_mode": {
    "name": "ipython",
    "version": 3
   },
   "file_extension": ".py",
   "mimetype": "text/x-python",
   "name": "python",
   "nbconvert_exporter": "python",
   "pygments_lexer": "ipython3",
   "version": "3.8.3"
  }
 },
 "nbformat": 4,
 "nbformat_minor": 4
}
