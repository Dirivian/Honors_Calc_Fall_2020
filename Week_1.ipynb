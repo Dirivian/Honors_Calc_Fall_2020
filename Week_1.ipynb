{
 "cells": [
  {
   "cell_type": "code",
   "execution_count": 1,
   "metadata": {},
   "outputs": [],
   "source": [
    "import numpy as np\n",
    "import matplotlib.pyplot as plt"
   ]
  },
  {
   "cell_type": "code",
   "execution_count": 3,
   "metadata": {},
   "outputs": [
    {
     "data": {
      "text/plain": [
       "0.0"
      ]
     },
     "execution_count": 3,
     "metadata": {},
     "output_type": "execute_result"
    }
   ],
   "source": [
    "np.sin(0)"
   ]
  },
  {
   "cell_type": "code",
   "execution_count": 12,
   "metadata": {},
   "outputs": [
    {
     "data": {
      "text/plain": [
       "[1, 2, 3, 1, 2, 3]"
      ]
     },
     "execution_count": 12,
     "metadata": {},
     "output_type": "execute_result"
    }
   ],
   "source": [
    "x = [1, 2, 3]\n",
    "x +x "
   ]
  },
  {
   "cell_type": "code",
   "execution_count": 13,
   "metadata": {},
   "outputs": [
    {
     "data": {
      "text/plain": [
       "array([2, 4, 6])"
      ]
     },
     "execution_count": 13,
     "metadata": {},
     "output_type": "execute_result"
    }
   ],
   "source": [
    "x = np.array([1, 2, 3])\n",
    "x + x "
   ]
  },
  {
   "cell_type": "code",
   "execution_count": 20,
   "metadata": {},
   "outputs": [
    {
     "data": {
      "text/plain": [
       "array([ 0,  1,  2,  3,  4,  5,  6,  7,  8,  9, 10, 11, 12, 13, 14, 15, 16,\n",
       "       17, 18, 19, 20, 21, 22, 23, 24, 25, 26, 27, 28, 29, 30, 31, 32, 33,\n",
       "       34, 35, 36, 37, 38, 39, 40, 41, 42, 43, 44, 45, 46, 47, 48, 49, 50,\n",
       "       51, 52, 53, 54, 55, 56, 57, 58, 59, 60, 61, 62, 63, 64, 65, 66, 67,\n",
       "       68, 69, 70, 71, 72, 73, 74, 75, 76, 77, 78, 79, 80, 81, 82, 83, 84,\n",
       "       85, 86, 87, 88, 89, 90, 91, 92, 93, 94, 95, 96, 97, 98, 99])"
      ]
     },
     "execution_count": 20,
     "metadata": {},
     "output_type": "execute_result"
    }
   ],
   "source": [
    "x = np.arange(100)\n",
    "x"
   ]
  },
  {
   "cell_type": "code",
   "execution_count": 21,
   "metadata": {},
   "outputs": [
    {
     "data": {
      "text/plain": [
       "0"
      ]
     },
     "execution_count": 21,
     "metadata": {},
     "output_type": "execute_result"
    }
   ],
   "source": [
    "x[0]"
   ]
  },
  {
   "cell_type": "code",
   "execution_count": 28,
   "metadata": {},
   "outputs": [
    {
     "data": {
      "text/plain": [
       "array([ 0,  2,  4,  6,  8, 10, 12, 14, 16, 18, 20, 22, 24, 26, 28, 30, 32,\n",
       "       34, 36, 38, 40, 42, 44, 46, 48, 50, 52, 54, 56, 58, 60, 62, 64, 66,\n",
       "       68, 70, 72, 74, 76, 78, 80, 82, 84, 86, 88, 90, 92, 94, 96, 98])"
      ]
     },
     "execution_count": 28,
     "metadata": {},
     "output_type": "execute_result"
    }
   ],
   "source": [
    "x[::2]"
   ]
  },
  {
   "cell_type": "code",
   "execution_count": 29,
   "metadata": {},
   "outputs": [
    {
     "data": {
      "text/plain": [
       "array([ 1,  3,  5,  7,  9, 11, 13, 15, 17, 19, 21, 23, 25, 27, 29, 31, 33,\n",
       "       35, 37, 39, 41, 43, 45, 47, 49, 51, 53, 55, 57, 59, 61, 63, 65, 67,\n",
       "       69, 71, 73, 75, 77, 79, 81, 83, 85, 87, 89, 91, 93, 95, 97, 99])"
      ]
     },
     "execution_count": 29,
     "metadata": {},
     "output_type": "execute_result"
    }
   ],
   "source": [
    "x[1::2]"
   ]
  },
  {
   "cell_type": "code",
   "execution_count": 30,
   "metadata": {},
   "outputs": [
    {
     "data": {
      "text/plain": [
       "array([ 0,  3,  6,  9, 12, 15, 18, 21, 24, 27, 30, 33, 36, 39, 42, 45, 48,\n",
       "       51, 54, 57, 60, 63, 66, 69, 72, 75, 78, 81, 84, 87, 90, 93, 96, 99])"
      ]
     },
     "execution_count": 30,
     "metadata": {},
     "output_type": "execute_result"
    }
   ],
   "source": [
    "x[::3]"
   ]
  },
  {
   "cell_type": "code",
   "execution_count": 35,
   "metadata": {},
   "outputs": [
    {
     "data": {
      "text/plain": [
       "array([98, 97, 96, 95, 94, 93, 92, 91, 90, 89, 88, 87, 86, 85, 84, 83, 82,\n",
       "       81, 80, 79, 78, 77, 76, 75, 74, 73, 72, 71, 70, 69, 68, 67, 66, 65,\n",
       "       64, 63, 62, 61, 60, 59, 58, 57, 56, 55, 54, 53, 52, 51, 50, 49, 48,\n",
       "       47, 46, 45, 44, 43, 42, 41, 40, 39, 38, 37, 36, 35, 34, 33, 32, 31,\n",
       "       30, 29, 28, 27, 26, 25, 24, 23, 22, 21, 20, 19, 18, 17, 16, 15, 14,\n",
       "       13, 12, 11, 10,  9,  8,  7,  6,  5,  4,  3,  2,  1,  0])"
      ]
     },
     "execution_count": 35,
     "metadata": {},
     "output_type": "execute_result"
    }
   ],
   "source": [
    "x[-2::-1]"
   ]
  },
  {
   "cell_type": "markdown",
   "metadata": {},
   "source": [
    "Strings are lists in python!"
   ]
  },
  {
   "cell_type": "code",
   "execution_count": 36,
   "metadata": {},
   "outputs": [
    {
     "data": {
      "text/plain": [
       "'yrneh'"
      ]
     },
     "execution_count": 36,
     "metadata": {},
     "output_type": "execute_result"
    }
   ],
   "source": [
    "name = \"henry\"\n",
    "name[::-1]\n"
   ]
  },
  {
   "cell_type": "code",
   "execution_count": 37,
   "metadata": {},
   "outputs": [],
   "source": [
    "def palindrome(x):\n",
    "    if x == x[::-1]:\n",
    "        return True\n",
    "    else:\n",
    "        return False"
   ]
  },
  {
   "cell_type": "code",
   "execution_count": 39,
   "metadata": {},
   "outputs": [
    {
     "data": {
      "text/plain": [
       "False"
      ]
     },
     "execution_count": 39,
     "metadata": {},
     "output_type": "execute_result"
    }
   ],
   "source": [
    "palindrome('henry')"
   ]
  },
  {
   "cell_type": "code",
   "execution_count": 40,
   "metadata": {},
   "outputs": [
    {
     "data": {
      "text/plain": [
       "True"
      ]
     },
     "execution_count": 40,
     "metadata": {},
     "output_type": "execute_result"
    }
   ],
   "source": [
    "palindrome('racecar')"
   ]
  },
  {
   "cell_type": "code",
   "execution_count": 42,
   "metadata": {},
   "outputs": [
    {
     "data": {
      "text/plain": [
       "'racecar'"
      ]
     },
     "execution_count": 42,
     "metadata": {},
     "output_type": "execute_result"
    }
   ],
   "source": [
    "'racecar'[::-1]"
   ]
  },
  {
   "cell_type": "markdown",
   "metadata": {},
   "source": [
    "Writing a function to find the derivative of any function"
   ]
  },
  {
   "cell_type": "markdown",
   "metadata": {},
   "source": [
    "$ \\frac{df}{dx} =  \\frac{\\Delta f}{\\Delta x} = \\frac{f(x+ \\Delta x) - f(x)}{\\Delta x}$"
   ]
  },
  {
   "cell_type": "code",
   "execution_count": 43,
   "metadata": {},
   "outputs": [],
   "source": [
    "def derivative(f, x, delta_x):\n",
    "    return (f(x+delta_x) - f(x))/delta_x"
   ]
  },
  {
   "cell_type": "code",
   "execution_count": 47,
   "metadata": {},
   "outputs": [
    {
     "data": {
      "text/plain": [
       "0.9999999983333334"
      ]
     },
     "execution_count": 47,
     "metadata": {},
     "output_type": "execute_result"
    }
   ],
   "source": [
    "derivative(np.sin, 0, 0.0001)"
   ]
  },
  {
   "cell_type": "code",
   "execution_count": 48,
   "metadata": {},
   "outputs": [
    {
     "name": "stdout",
     "output_type": "stream",
     "text": [
      "apples\n",
      "oranges\n",
      "bananas\n"
     ]
    }
   ],
   "source": [
    "grocery = ['apples', 'oranges', 'bananas']\n",
    "\n",
    "for item in grocery:\n",
    "    print(item)"
   ]
  },
  {
   "cell_type": "markdown",
   "metadata": {},
   "source": [
    "Truncation error is $O(\\Delta x)$ but beyond a small $\\Delta x$, the computer cannot do the subtraction accurately and makes a mistake."
   ]
  },
  {
   "cell_type": "code",
   "execution_count": 61,
   "metadata": {},
   "outputs": [
    {
     "name": "stdout",
     "output_type": "stream",
     "text": [
      "1.0 0.2699544827129281 0.7071067811865476\n",
      "0.1 0.6706029729039886 0.7071067811865476\n",
      "0.010000000000000002 0.7035594916891984 0.7071067811865476\n",
      "0.0010000000000000002 0.7067531099742561 0.7071067811865476\n",
      "0.00010000000000000002 0.707071424668193 0.7071067811865476\n",
      "1.0000000000000003e-05 0.7071032456340551 0.7071067811865476\n",
      "1.0000000000000004e-06 0.7071064276331638 0.7071067811865476\n",
      "1.0000000000000004e-07 0.7071067442687704 0.7071067811865476\n",
      "1.0000000000000005e-08 0.7071067731345689 0.7071067811865476\n",
      "1.0000000000000005e-09 0.7071067065211875 0.7071067811865476\n",
      "1.0000000000000006e-10 0.7071065954988849 0.7071067811865476\n",
      "1.0000000000000006e-11 0.7071010443837618 0.7071067811865476\n",
      "1.0000000000000006e-12 0.7069900220812992 0.7071067811865476\n",
      "1.0000000000000007e-13 0.7072120666862243 0.7071067811865476\n",
      "1.0000000000000008e-14 0.6994405055138481 0.7071067811865476\n",
      "1.0000000000000009e-15 0.6661338147750934 0.7071067811865476\n",
      "1.0000000000000008e-16 0.0 0.7071067811865476\n",
      "1.000000000000001e-17 0.0 0.7071067811865476\n",
      "1.000000000000001e-18 0.0 0.7071067811865476\n",
      "1.000000000000001e-19 0.0 0.7071067811865476\n",
      "1.0000000000000011e-20 0.0 0.7071067811865476\n",
      "1.0000000000000012e-21 0.0 0.7071067811865476\n",
      "1.0000000000000012e-22 0.0 0.7071067811865476\n",
      "1.0000000000000013e-23 0.0 0.7071067811865476\n",
      "1.0000000000000014e-24 0.0 0.7071067811865476\n",
      "1.0000000000000014e-25 0.0 0.7071067811865476\n",
      "1.0000000000000015e-26 0.0 0.7071067811865476\n",
      "1.0000000000000015e-27 0.0 0.7071067811865476\n",
      "1.0000000000000015e-28 0.0 0.7071067811865476\n",
      "1.0000000000000016e-29 0.0 0.7071067811865476\n"
     ]
    }
   ],
   "source": [
    "n_space = np.arange(30)\n",
    "\n",
    "for n in n_space:\n",
    "    delta_x = 0.1**n\n",
    "    print(delta_x, derivative(np.sin, np.pi/4, delta_x), np.sqrt(1/2))"
   ]
  },
  {
   "cell_type": "markdown",
   "metadata": {},
   "source": [
    "Round-off error dominates as $\\Delta x$ decreases because the computer cannot do the subtraction accurately. A way to get rid of this is by using a taylor expansion with an imaginary step in the complex plane."
   ]
  },
  {
   "cell_type": "markdown",
   "metadata": {},
   "source": [
    "$f(x+ \\Delta x) = f(x)+ \\Delta x \\frac{df}{dx}$"
   ]
  },
  {
   "cell_type": "markdown",
   "metadata": {},
   "source": [
    "$ f(x+i\\Delta x) = f(x)+ i\\Delta x \\frac{df}{dx}  -\\Delta x^2 \\frac{d^2f}{dx^2}$"
   ]
  },
  {
   "cell_type": "markdown",
   "metadata": {},
   "source": [
    "Taking the imaginary part on both sides gets rid of the need for subtraction and gives you a higher order approximation."
   ]
  },
  {
   "cell_type": "markdown",
   "metadata": {},
   "source": [
    "$ imag(f(x+i\\Delta x) =  \\Delta x \\frac{df}{dx}  $"
   ]
  },
  {
   "cell_type": "code",
   "execution_count": 71,
   "metadata": {},
   "outputs": [],
   "source": [
    "def complex_derivative(f, x, delta_x):\n",
    "    return np.imag(f(x + 1j* delta_x))/delta_x"
   ]
  },
  {
   "cell_type": "code",
   "execution_count": 74,
   "metadata": {},
   "outputs": [
    {
     "name": "stdout",
     "output_type": "stream",
     "text": [
      "1.0 0.830992733284057 0.7071067811865476\n",
      "0.1 0.7082858818844947 0.7071067811865476\n",
      "0.010000000000000002 0.7071185663584931 0.7071067811865476\n",
      "0.0010000000000000002 0.7071068990376835 0.7071067811865476\n",
      "0.00010000000000000002 0.7071067823650588 0.7071067811865476\n",
      "1.0000000000000003e-05 0.7071067811983327 0.7071067811865476\n",
      "1.0000000000000004e-06 0.7071067811866654 0.7071067811865476\n",
      "1.0000000000000004e-07 0.7071067811865488 0.7071067811865476\n",
      "1.0000000000000005e-08 0.7071067811865476 0.7071067811865476\n",
      "1.0000000000000005e-09 0.7071067811865476 0.7071067811865476\n",
      "1.0000000000000006e-10 0.7071067811865476 0.7071067811865476\n",
      "1.0000000000000006e-11 0.7071067811865476 0.7071067811865476\n",
      "1.0000000000000006e-12 0.7071067811865476 0.7071067811865476\n",
      "1.0000000000000007e-13 0.7071067811865476 0.7071067811865476\n",
      "1.0000000000000008e-14 0.7071067811865476 0.7071067811865476\n",
      "1.0000000000000009e-15 0.7071067811865476 0.7071067811865476\n",
      "1.0000000000000008e-16 0.7071067811865476 0.7071067811865476\n",
      "1.000000000000001e-17 0.7071067811865475 0.7071067811865476\n",
      "1.000000000000001e-18 0.7071067811865476 0.7071067811865476\n",
      "1.000000000000001e-19 0.7071067811865476 0.7071067811865476\n",
      "1.0000000000000011e-20 0.7071067811865476 0.7071067811865476\n",
      "1.0000000000000012e-21 0.7071067811865476 0.7071067811865476\n",
      "1.0000000000000012e-22 0.7071067811865476 0.7071067811865476\n",
      "1.0000000000000013e-23 0.7071067811865476 0.7071067811865476\n",
      "1.0000000000000014e-24 0.7071067811865476 0.7071067811865476\n",
      "1.0000000000000014e-25 0.7071067811865476 0.7071067811865476\n",
      "1.0000000000000015e-26 0.7071067811865476 0.7071067811865476\n",
      "1.0000000000000015e-27 0.7071067811865476 0.7071067811865476\n",
      "1.0000000000000015e-28 0.7071067811865476 0.7071067811865476\n",
      "1.0000000000000016e-29 0.7071067811865477 0.7071067811865476\n"
     ]
    }
   ],
   "source": [
    "n_space = np.arange(30)\n",
    "\n",
    "for n in n_space:\n",
    "    delta_x = 0.1**n\n",
    "    print(delta_x, complex_derivative(np.sin, np.pi/4, delta_x), np.sqrt(1/2))"
   ]
  },
  {
   "cell_type": "markdown",
   "metadata": {},
   "source": [
    "Going into the complex plane can often lead to surprising solutions! This notebook was inspired by this SIAM new article (https://sinews.siam.org/Details-Page/differentiation-without-a-difference)"
   ]
  },
  {
   "cell_type": "code",
   "execution_count": null,
   "metadata": {},
   "outputs": [],
   "source": []
  }
 ],
 "metadata": {
  "kernelspec": {
   "display_name": "Python 3",
   "language": "python",
   "name": "python3"
  },
  "language_info": {
   "codemirror_mode": {
    "name": "ipython",
    "version": 3
   },
   "file_extension": ".py",
   "mimetype": "text/x-python",
   "name": "python",
   "nbconvert_exporter": "python",
   "pygments_lexer": "ipython3",
   "version": "3.8.3"
  }
 },
 "nbformat": 4,
 "nbformat_minor": 4
}
